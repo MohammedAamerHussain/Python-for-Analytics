{
 "cells": [
  {
   "cell_type": "markdown",
   "metadata": {},
   "source": [
    "### Assignment 2: Python for Analytics, Summer"
   ]
  },
  {
   "cell_type": "markdown",
   "metadata": {},
   "source": [
    "* covers lectures 4-6\n",
    "* due: July 27th by 5 pm.\n",
    "* Points will be deducted if:\n",
    "    * Problems are not completed.\n",
    "    * Portions of problems are not completed.\n",
    "    * Third party modules where used when the question specified not to do so.\n",
    "    * The problem was solved in a very inefficient manner.  For instance, copying and pasting the same block of code 10 times instead of using a for loop or using a for loop when a comprehension would work."
   ]
  },
  {
   "cell_type": "markdown",
   "metadata": {},
   "source": [
    "#### Question 1 (15 points)"
   ]
  },
  {
   "cell_type": "markdown",
   "metadata": {},
   "source": [
    "Using the Iris data, sum the 4 numeric  features and find out how many rows have a sum greater than 10.  Do this in two ways.  First using Numpy, then using Pandas.\n",
    "\n",
    "Print the shape for both the Pandas and Numpy solution."
   ]
  },
  {
   "cell_type": "code",
   "execution_count": 7,
   "metadata": {},
   "outputs": [
    {
     "name": "stdout",
     "output_type": "stream",
     "text": [
      "Count of Iris data rows greater than 10 using numpy: 128 \n",
      "\n",
      "\n",
      "\n",
      "   sepal length (cm)  sepal width (cm)  petal length (cm)  petal width (cm)\n",
      "0                5.1               3.5                1.4               0.2\n",
      "1                4.9               3.0                1.4               0.2\n",
      "2                4.7               3.2                1.3               0.2\n",
      "3                4.6               3.1                1.5               0.2\n",
      "4                5.0               3.6                1.4               0.2\n",
      "count of Iris data rows greater than 10 using pandas: 128\n"
     ]
    }
   ],
   "source": [
    "from sklearn.datasets import load_iris\n",
    "import pandas as pd\n",
    "import numpy as np\n",
    "iris = load_iris()\n",
    "iris_data = iris[\"data\"]\n",
    "iris_labels = iris[\"target_names\"]\n",
    "iris_features = iris[\"feature_names\"]\n",
    "\n",
    "\n",
    "# using numpy\n",
    "np_row_sums = iris_data[np.sum(iris_data,axis = 1) >10]\n",
    "print(\"Count of Iris data rows greater than 10 using numpy:\", len(np_row_sums),\"\\n\\n\\n\")\n",
    "\n",
    "#using pandas\n",
    "df = pd.DataFrame(iris_data, columns =iris_features)\n",
    "print(df.head(5))\n",
    "pd_row_sums = df[df.sum(axis=1) > 10]\n",
    "print(\"count of Iris data rows greater than 10 using pandas:\", len(pd_row_sums))"
   ]
  },
  {
   "cell_type": "markdown",
   "metadata": {},
   "source": [
    "#### Question 2 (10 points)"
   ]
  },
  {
   "cell_type": "markdown",
   "metadata": {},
   "source": [
    "Consider the below two arrays.  The first will be actual values and the second predicted values.  Calculate the below:\n",
    "\n",
    "* MAE: Mean Absolute Error, defined as the average absolute error.\n",
    "* MSE: Mean Squared Error, defined as taking the difference between the two arrays, squaring the errors, summing and finding the mean.\n",
    "* MAPE: Mean Absolute Percentage Error, defined as the mean percentage difference between the two arrays.\n",
    "\n",
    "Solve each using one line of code, making use of Numpy array elementwise operations.\n",
    "\n",
    "Print out each metric."
   ]
  },
  {
   "cell_type": "code",
   "execution_count": 8,
   "metadata": {},
   "outputs": [],
   "source": [
    "a = np.array([1,4,5,2,4,6,1])\n",
    "b = np.array([5,2,3,4,5,6,1])"
   ]
  },
  {
   "cell_type": "code",
   "execution_count": 9,
   "metadata": {},
   "outputs": [
    {
     "name": "stdout",
     "output_type": "stream",
     "text": [
      "MAE: 1.5714285714285714\n",
      "MSE: 4.142857142857143\n",
      "MAPE: 87.85714285714286\n"
     ]
    }
   ],
   "source": [
    "MAE = np.mean(np.abs(a-b))\n",
    "print(\"MAE:\",MAE)\n",
    "MSE = np.mean((a - b)**2)\n",
    "print(\"MSE:\",MSE)\n",
    "MAPE = np.mean(np.abs((a-b)/a))*100\n",
    "print(\"MAPE:\",MAPE)"
   ]
  },
  {
   "cell_type": "markdown",
   "metadata": {},
   "source": [
    "#### Question 3 (10 points)"
   ]
  },
  {
   "cell_type": "markdown",
   "metadata": {},
   "source": [
    "Using the describe method and loc, find the standard deviation and mean for Sepal Length and Petal Length.  Create a new DataFrame that is subetted to include only rows where the Sepal Length and Petal Length are greater than one standard deviation from the mean.  Find the pairwise correlations for each feature for the subsetted DataFrame and the number of rows left after subsetting.  Do the same process but switch the and to an or when subsetting the DataFrame.\n",
    "\n",
    "Print the row count and correlation matrix for both the and subsetting and or subsetting."
   ]
  },
  {
   "cell_type": "code",
   "execution_count": 13,
   "metadata": {},
   "outputs": [
    {
     "name": "stdout",
     "output_type": "stream",
     "text": [
      "correlaion matrix between subset and non-subset matrix:  sepal length (cm)   NaN\n",
      "sepal width (cm)    NaN\n",
      "petal length (cm)   NaN\n",
      "petal width (cm)    NaN\n",
      "dtype: float64 \n",
      "\n",
      "\n",
      "\n",
      "correlaion matrix between non-subset matrix and  subset matrix :  sepal length (cm)   NaN\n",
      "sepal width (cm)    NaN\n",
      "petal length (cm)   NaN\n",
      "petal width (cm)    NaN\n",
      "dtype: float64 \n",
      "\n",
      "\n",
      "Row count of the main dataframe : sepal length (cm)    150\n",
      "sepal width (cm)     150\n",
      "petal length (cm)    150\n",
      "petal width (cm)     150\n",
      "dtype: int64 \n",
      "Row count of the subset dataframe : sepal length (cm)    18\n",
      "sepal width (cm)     18\n",
      "petal length (cm)    18\n",
      "petal width (cm)     18\n",
      "dtype: int64 \n",
      "Row count of the non-subset dataframe : sepal length (cm)    132\n",
      "sepal width (cm)     132\n",
      "petal length (cm)    132\n",
      "petal width (cm)     132\n",
      "dtype: int64\n"
     ]
    }
   ],
   "source": [
    "mean_sepal_len = df.describe().iloc[1][0]\n",
    "mean_petal_len = df.describe().iloc[1][2]\n",
    "std_sepal_len = df.describe().iloc[2][0]\n",
    "std_petal_len = df.describe().iloc[2][2]\n",
    "subset_df = df[(df[\"sepal length (cm)\"] > (mean_sepal_len + std_sepal_len)) & (df[\"petal length (cm)\"] > (mean_petal_len + std_petal_len))]\n",
    "non_subset_df = df[~df.isin(subset_df)]\n",
    "correlation_matrix = subset_df.corrwith(non_subset_df,axis=0)\n",
    "print(\"correlaion matrix between subset and non-subset matrix: \",correlation_matrix,\"\\n\\n\\n\")\n",
    "switch_correlation_matrix = non_subset_df.corrwith(subset_df,axis=0)\n",
    "print(\"correlaion matrix between non-subset matrix and  subset matrix : \",correlation_matrix,\"\\n\\n\")\n",
    "print(\"Row count of the main dataframe :\",df.count(),\"\\nRow count of the subset dataframe :\",subset_df.count(),\"\\nRow count of the non-subset dataframe :\",non_subset_df.count() )"
   ]
  },
  {
   "cell_type": "markdown",
   "metadata": {},
   "source": [
    "#### Question 4 (15 points)"
   ]
  },
  {
   "cell_type": "code",
   "execution_count": 14,
   "metadata": {},
   "outputs": [],
   "source": [
    "from sklearn.datasets import load_boston"
   ]
  },
  {
   "cell_type": "code",
   "execution_count": 15,
   "metadata": {},
   "outputs": [],
   "source": [
    "boston_data = load_boston()"
   ]
  },
  {
   "cell_type": "markdown",
   "metadata": {},
   "source": [
    "Load Boston Housing dataset from Scikit-Learn.  Put the data into a Pandas DataFrame using the data and feature_names attributes from the boston_data object.  Find the IQR (interquartile range) for AGE, which is defined as the 75th quartile - the 25th quartile.  Remove observations with an AGE that are not within 1.5 IQR of the median.  Find the strongest correlated feature with AGE, not including itself, and plot the two features as a scatter plot.  Note strongest correlated could mean positive or negative.\n",
    "\n",
    "Print the IQR, the highest correlating feature, the correlation itself and the scatter plot."
   ]
  },
  {
   "cell_type": "code",
   "execution_count": 32,
   "metadata": {},
   "outputs": [
    {
     "name": "stdout",
     "output_type": "stream",
     "text": [
      "The inter-quartile range for AGE feature :  49.04999999999999 \n",
      "\n",
      "\n",
      "Hightest correlated feature with AGE :  DIS    0.748317\n",
      "Name: AGE, dtype: float64 \n",
      "\n",
      "\n",
      "Scatterplot between AGE and the highest correlated feature\n"
     ]
    },
    {
     "data": {
      "text/plain": [
       "Text(0.5, 1.0, 'AGE vs. DISTANCE')"
      ]
     },
     "execution_count": 32,
     "metadata": {},
     "output_type": "execute_result"
    },
    {
     "data": {
      "image/png": "[encoded data removed]",
      "text/plain": [
       "<Figure size 720x360 with 1 Axes>"
      ]
     },
     "metadata": {
      "needs_background": "light"
     },
     "output_type": "display_data"
    }
   ],
   "source": [
    "\n",
    "import matplotlib.pyplot as plt\n",
    "import seaborn as sns\n",
    "boston_columns = boston_data.feature_names\n",
    "df_boston = pd.DataFrame(boston_data.data)\n",
    "df_boston.columns = boston_columns\n",
    "#df_boston.head()\n",
    "age_iqr = df_boston[\"AGE\"].quantile(.75) - df_boston[\"AGE\"].quantile(.25)\n",
    "print(\"The inter-quartile range for AGE feature : \",age_iqr,\"\\n\\n\")\n",
    "boston_filtered = df_boston[~((df_boston[\"AGE\"] < (df_boston[\"AGE\"].median() - 1.5 * age_iqr)) |\n",
    "                  (df_boston[\"AGE\"] > (df_boston[\"AGE\"].median() + 1.5 * age_iqr)))]\n",
    "\n",
    "corr_var = boston_filtered.corr()\n",
    "corr_target = abs(corr_var[\"AGE\"])\n",
    "age_corr = corr_target.sort_values(ascending=False).drop(index = 'AGE').head(n=1)\n",
    "print(\"Hightest correlated feature with AGE : \",age_corr,\"\\n\\n\")\n",
    "\n",
    "x = boston_filtered[\"AGE\"].values\n",
    "y = boston_filtered[\"DIS\"].values\n",
    "print(\"Scatterplot between AGE and the highest correlated feature\")\n",
    "plt.figure(figsize=(10,5))\n",
    "ax = sns.scatterplot(x,y,data = boston_filtered )\n",
    "ax.set_xlabel(\"AGE\", fontsize = 10)\n",
    "ax.set_ylabel(\"DISTANCE\", fontsize = 10)\n",
    "ax.set_title(\"AGE vs. DISTANCE\", fontsize = 15)"
   ]
  },
  {
   "cell_type": "markdown",
   "metadata": {},
   "source": [
    "#### Question 5 (10 points)"
   ]
  },
  {
   "cell_type": "markdown",
   "metadata": {},
   "source": [
    "For rating_df, do the folling 3 data transformations to each column:\n",
    "\n",
    "* min_max: 0-1 scale, defined as (x - min(x))/(max(x) - min(x))\n",
    "* mean_centered: x - mean(x)\n",
    "* z_score: (x - mean(x))/std(x)\n",
    "\n",
    "This means, for instance, each column for min max should be scaled to where the max is 1 and the min is 0.\n",
    "\n",
    "Hint, this should be done using 1 line, making use of broadcasting and rows and columnwise mean, min, max and standard deviation calculations.\n",
    "\n",
    "Print out the 3 scaled dataframes."
   ]
  },
  {
   "cell_type": "code",
   "execution_count": 37,
   "metadata": {},
   "outputs": [
    {
     "name": "stdout",
     "output_type": "stream",
     "text": [
      "        star_wars  harry_potter  avengers\n",
      "user_1          4             2         5\n",
      "user_2          1             5         4\n",
      "user_3          2             4         2\n",
      "user_4          3             5         4 \n",
      "\n",
      "\n",
      "\n",
      "Min-Max df :         star_wars  harry_potter  avengers\n",
      "user_1   1.000000      0.000000  1.000000\n",
      "user_2   0.000000      1.000000  0.666667\n",
      "user_3   0.333333      0.666667  0.000000\n",
      "user_4   0.666667      1.000000  0.666667 \n",
      "\n",
      "\n",
      "\n",
      "Mean_df:         star_wars  harry_potter  avengers\n",
      "user_1        1.5          -2.0      1.25\n",
      "user_2       -1.5           1.0      0.25\n",
      "user_3       -0.5           0.0     -1.75\n",
      "user_4        0.5           1.0      0.25 \n",
      "\n",
      "\n",
      "\n",
      "Z-Score_df:         star_wars  harry_potter  avengers\n",
      "user_1   1.161895     -1.414214  0.993399\n",
      "user_2  -1.161895      0.707107  0.198680\n",
      "user_3  -0.387298      0.000000 -1.390759\n",
      "user_4   0.387298      0.707107  0.198680\n"
     ]
    }
   ],
   "source": [
    "import numpy as np \n",
    "import pandas as pd \n",
    "\n",
    "user_1 = np.array([4,2,5])\n",
    "user_2 = np.array([1,5,4])\n",
    "user_3 = np.array([2,4,2])\n",
    "user_4 = np.array([3,5,4])\n",
    "\n",
    "rating_matrix = np.array([user_1, user_2, user_3, user_4])\n",
    "\n",
    "columns = [\"star_wars\", \"harry_potter\", \"avengers\"]\n",
    "index = [\"user_1\", \"user_2\", \"user_3\", \"user_4\"]\n",
    "\n",
    "rating_df = pd.DataFrame(rating_matrix, columns = columns, index = index)\n",
    "\n",
    "print(rating_df,\"\\n\\n\\n\")\n",
    "\n",
    "min_max_df = (rating_df - rating_df.min())/(rating_df.max() - rating_df.min())\n",
    "mean_df = rating_df - rating_df.mean()\n",
    "zscore_df = (rating_df - rating_df.mean())/rating_df.std()\n",
    "print(\"Min-Max df :\",min_max_df,\"\\n\\n\\n\\nMean_df:\",mean_df,\"\\n\\n\\n\\nZ-Score_df:\",zscore_df)"
   ]
  },
  {
   "cell_type": "markdown",
   "metadata": {},
   "source": [
    "#### Quesiton 6 (15 points)"
   ]
  },
  {
   "cell_type": "markdown",
   "metadata": {},
   "source": [
    "Add a column to rating_df called \"most_similar_user\" that has the user_id of the most similar user for that given observation.  Define similarity using the euclidean distance between two rating vectors.  Note, when making a distance matrix, the min distance is going to be the distance between each user and themselves.  Make sure the most_similar_user is not the user themself.\n",
    "\n",
    "For instance, for user_1, the most similar user, not including themself, is user_4.\n",
    "\n",
    "Print out the dataframe with the new column."
   ]
  },
  {
   "cell_type": "code",
   "execution_count": 23,
   "metadata": {},
   "outputs": [
    {
     "data": {
      "text/html": [
       "<div>\n",
       "<style scoped>\n",
       "    .dataframe tbody tr th:only-of-type {\n",
       "        vertical-align: middle;\n",
       "    }\n",
       "\n",
       "    .dataframe tbody tr th {\n",
       "        vertical-align: top;\n",
       "    }\n",
       "\n",
       "    .dataframe thead th {\n",
       "        text-align: right;\n",
       "    }\n",
       "</style>\n",
       "<table border=\"1\" class=\"dataframe\">\n",
       "  <thead>\n",
       "    <tr style=\"text-align: right;\">\n",
       "      <th></th>\n",
       "      <th>star_wars</th>\n",
       "      <th>harry_potter</th>\n",
       "      <th>avengers</th>\n",
       "    </tr>\n",
       "  </thead>\n",
       "  <tbody>\n",
       "    <tr>\n",
       "      <td>user_1</td>\n",
       "      <td>4</td>\n",
       "      <td>2</td>\n",
       "      <td>5</td>\n",
       "    </tr>\n",
       "    <tr>\n",
       "      <td>user_2</td>\n",
       "      <td>1</td>\n",
       "      <td>5</td>\n",
       "      <td>4</td>\n",
       "    </tr>\n",
       "    <tr>\n",
       "      <td>user_3</td>\n",
       "      <td>2</td>\n",
       "      <td>4</td>\n",
       "      <td>2</td>\n",
       "    </tr>\n",
       "    <tr>\n",
       "      <td>user_4</td>\n",
       "      <td>3</td>\n",
       "      <td>5</td>\n",
       "      <td>4</td>\n",
       "    </tr>\n",
       "  </tbody>\n",
       "</table>\n",
       "</div>"
      ],
      "text/plain": [
       "        star_wars  harry_potter  avengers\n",
       "user_1          4             2         5\n",
       "user_2          1             5         4\n",
       "user_3          2             4         2\n",
       "user_4          3             5         4"
      ]
     },
     "execution_count": 23,
     "metadata": {},
     "output_type": "execute_result"
    }
   ],
   "source": [
    "user_1 = np.array([4,2,5])\n",
    "user_2 = np.array([1,5,4])\n",
    "user_3 = np.array([2,4,2])\n",
    "user_4 = np.array([3,5,4])\n",
    "\n",
    "rating_matrix = np.array([user_1, user_2, user_3, user_4])\n",
    "\n",
    "columns = [\"star_wars\", \"harry_potter\", \"avengers\"]\n",
    "index = [\"user_1\", \"user_2\", \"user_3\", \"user_4\"]\n",
    "\n",
    "rating_df = pd.DataFrame(rating_matrix, columns = columns, index = index)\n",
    "\n",
    "rating_df"
   ]
  },
  {
   "cell_type": "code",
   "execution_count": 38,
   "metadata": {},
   "outputs": [
    {
     "data": {
      "text/html": [
       "<div>\n",
       "<style scoped>\n",
       "    .dataframe tbody tr th:only-of-type {\n",
       "        vertical-align: middle;\n",
       "    }\n",
       "\n",
       "    .dataframe tbody tr th {\n",
       "        vertical-align: top;\n",
       "    }\n",
       "\n",
       "    .dataframe thead th {\n",
       "        text-align: right;\n",
       "    }\n",
       "</style>\n",
       "<table border=\"1\" class=\"dataframe\">\n",
       "  <thead>\n",
       "    <tr style=\"text-align: right;\">\n",
       "      <th></th>\n",
       "      <th>star_wars</th>\n",
       "      <th>harry_potter</th>\n",
       "      <th>avengers</th>\n",
       "      <th>most_similar_user</th>\n",
       "    </tr>\n",
       "  </thead>\n",
       "  <tbody>\n",
       "    <tr>\n",
       "      <td>user_1</td>\n",
       "      <td>4</td>\n",
       "      <td>2</td>\n",
       "      <td>5</td>\n",
       "      <td>user_4</td>\n",
       "    </tr>\n",
       "    <tr>\n",
       "      <td>user_2</td>\n",
       "      <td>1</td>\n",
       "      <td>5</td>\n",
       "      <td>4</td>\n",
       "      <td>user_4</td>\n",
       "    </tr>\n",
       "    <tr>\n",
       "      <td>user_3</td>\n",
       "      <td>2</td>\n",
       "      <td>4</td>\n",
       "      <td>2</td>\n",
       "      <td>user_2</td>\n",
       "    </tr>\n",
       "    <tr>\n",
       "      <td>user_4</td>\n",
       "      <td>3</td>\n",
       "      <td>5</td>\n",
       "      <td>4</td>\n",
       "      <td>user_2</td>\n",
       "    </tr>\n",
       "  </tbody>\n",
       "</table>\n",
       "</div>"
      ],
      "text/plain": [
       "        star_wars  harry_potter  avengers most_similar_user\n",
       "user_1          4             2         5            user_4\n",
       "user_2          1             5         4            user_4\n",
       "user_3          2             4         2            user_2\n",
       "user_4          3             5         4            user_2"
      ]
     },
     "execution_count": 38,
     "metadata": {},
     "output_type": "execute_result"
    }
   ],
   "source": [
    "from scipy.spatial.distance import pdist, squareform, cdist\n",
    "dist_matrix = pd.DataFrame(cdist(rating_df,rating_df), index = index, columns = index)\n",
    "temp_df = dist_matrix[dist_matrix > 0.01].idxmin(axis=1)\n",
    "rating_df['most_similar_user'] = temp_df\n",
    "rating_df"
   ]
  },
  {
   "cell_type": "markdown",
   "metadata": {},
   "source": [
    "#### Question 7 (10 points)"
   ]
  },
  {
   "cell_type": "markdown",
   "metadata": {},
   "source": [
    "Use a for loop to make a 2,3 and 4 period rolling mean column for each user.  Making sure to add each column to the dataframe.\n",
    "\n",
    "Print the dataframe out."
   ]
  },
  {
   "cell_type": "code",
   "execution_count": 25,
   "metadata": {},
   "outputs": [
    {
     "data": {
      "text/html": [
       "<div>\n",
       "<style scoped>\n",
       "    .dataframe tbody tr th:only-of-type {\n",
       "        vertical-align: middle;\n",
       "    }\n",
       "\n",
       "    .dataframe tbody tr th {\n",
       "        vertical-align: top;\n",
       "    }\n",
       "\n",
       "    .dataframe thead th {\n",
       "        text-align: right;\n",
       "    }\n",
       "</style>\n",
       "<table border=\"1\" class=\"dataframe\">\n",
       "  <thead>\n",
       "    <tr style=\"text-align: right;\">\n",
       "      <th></th>\n",
       "      <th>id</th>\n",
       "      <th>metric</th>\n",
       "    </tr>\n",
       "  </thead>\n",
       "  <tbody>\n",
       "    <tr>\n",
       "      <td>0</td>\n",
       "      <td>a</td>\n",
       "      <td>5</td>\n",
       "    </tr>\n",
       "    <tr>\n",
       "      <td>1</td>\n",
       "      <td>a</td>\n",
       "      <td>3</td>\n",
       "    </tr>\n",
       "    <tr>\n",
       "      <td>2</td>\n",
       "      <td>a</td>\n",
       "      <td>2</td>\n",
       "    </tr>\n",
       "    <tr>\n",
       "      <td>3</td>\n",
       "      <td>a</td>\n",
       "      <td>4</td>\n",
       "    </tr>\n",
       "    <tr>\n",
       "      <td>4</td>\n",
       "      <td>a</td>\n",
       "      <td>5</td>\n",
       "    </tr>\n",
       "    <tr>\n",
       "      <td>5</td>\n",
       "      <td>b</td>\n",
       "      <td>1</td>\n",
       "    </tr>\n",
       "    <tr>\n",
       "      <td>6</td>\n",
       "      <td>b</td>\n",
       "      <td>4</td>\n",
       "    </tr>\n",
       "    <tr>\n",
       "      <td>7</td>\n",
       "      <td>b</td>\n",
       "      <td>1</td>\n",
       "    </tr>\n",
       "    <tr>\n",
       "      <td>8</td>\n",
       "      <td>b</td>\n",
       "      <td>4</td>\n",
       "    </tr>\n",
       "    <tr>\n",
       "      <td>9</td>\n",
       "      <td>b</td>\n",
       "      <td>2</td>\n",
       "    </tr>\n",
       "    <tr>\n",
       "      <td>10</td>\n",
       "      <td>c</td>\n",
       "      <td>5</td>\n",
       "    </tr>\n",
       "    <tr>\n",
       "      <td>11</td>\n",
       "      <td>c</td>\n",
       "      <td>3</td>\n",
       "    </tr>\n",
       "    <tr>\n",
       "      <td>12</td>\n",
       "      <td>c</td>\n",
       "      <td>1</td>\n",
       "    </tr>\n",
       "    <tr>\n",
       "      <td>13</td>\n",
       "      <td>c</td>\n",
       "      <td>2</td>\n",
       "    </tr>\n",
       "    <tr>\n",
       "      <td>14</td>\n",
       "      <td>c</td>\n",
       "      <td>3</td>\n",
       "    </tr>\n",
       "  </tbody>\n",
       "</table>\n",
       "</div>"
      ],
      "text/plain": [
       "   id  metric\n",
       "0   a       5\n",
       "1   a       3\n",
       "2   a       2\n",
       "3   a       4\n",
       "4   a       5\n",
       "5   b       1\n",
       "6   b       4\n",
       "7   b       1\n",
       "8   b       4\n",
       "9   b       2\n",
       "10  c       5\n",
       "11  c       3\n",
       "12  c       1\n",
       "13  c       2\n",
       "14  c       3"
      ]
     },
     "execution_count": 25,
     "metadata": {},
     "output_type": "execute_result"
    }
   ],
   "source": [
    "metric = np.array([5,3,2,4,5,1,4,1,4,2,5,3,1,2,3])\n",
    "ids = np.array([\"a\",\"a\",\"a\",\"a\",\"a\",\"b\",\"b\",\"b\",\"b\",\"b\",\"c\",\"c\",\"c\",\"c\",\"c\"])\n",
    "\n",
    "df = pd.DataFrame({\n",
    "    \"id\":ids,\n",
    "    \"metric\":metric\n",
    "})\n",
    "df"
   ]
  },
  {
   "cell_type": "code",
   "execution_count": 27,
   "metadata": {},
   "outputs": [
    {
     "data": {
      "text/html": [
       "<div>\n",
       "<style scoped>\n",
       "    .dataframe tbody tr th:only-of-type {\n",
       "        vertical-align: middle;\n",
       "    }\n",
       "\n",
       "    .dataframe tbody tr th {\n",
       "        vertical-align: top;\n",
       "    }\n",
       "\n",
       "    .dataframe thead th {\n",
       "        text-align: right;\n",
       "    }\n",
       "</style>\n",
       "<table border=\"1\" class=\"dataframe\">\n",
       "  <thead>\n",
       "    <tr style=\"text-align: right;\">\n",
       "      <th></th>\n",
       "      <th>id</th>\n",
       "      <th>metric</th>\n",
       "      <th>Rolling_mean_2</th>\n",
       "      <th>Rolling_mean_3</th>\n",
       "      <th>Rolling_mean_4</th>\n",
       "    </tr>\n",
       "  </thead>\n",
       "  <tbody>\n",
       "    <tr>\n",
       "      <td>0</td>\n",
       "      <td>a</td>\n",
       "      <td>5</td>\n",
       "      <td>NaN</td>\n",
       "      <td>NaN</td>\n",
       "      <td>NaN</td>\n",
       "    </tr>\n",
       "    <tr>\n",
       "      <td>1</td>\n",
       "      <td>a</td>\n",
       "      <td>3</td>\n",
       "      <td>4.0</td>\n",
       "      <td>NaN</td>\n",
       "      <td>NaN</td>\n",
       "    </tr>\n",
       "    <tr>\n",
       "      <td>2</td>\n",
       "      <td>a</td>\n",
       "      <td>2</td>\n",
       "      <td>2.5</td>\n",
       "      <td>3.333333</td>\n",
       "      <td>NaN</td>\n",
       "    </tr>\n",
       "    <tr>\n",
       "      <td>3</td>\n",
       "      <td>a</td>\n",
       "      <td>4</td>\n",
       "      <td>3.0</td>\n",
       "      <td>3.000000</td>\n",
       "      <td>3.50</td>\n",
       "    </tr>\n",
       "    <tr>\n",
       "      <td>4</td>\n",
       "      <td>a</td>\n",
       "      <td>5</td>\n",
       "      <td>4.5</td>\n",
       "      <td>3.666667</td>\n",
       "      <td>3.50</td>\n",
       "    </tr>\n",
       "    <tr>\n",
       "      <td>5</td>\n",
       "      <td>b</td>\n",
       "      <td>1</td>\n",
       "      <td>NaN</td>\n",
       "      <td>NaN</td>\n",
       "      <td>NaN</td>\n",
       "    </tr>\n",
       "    <tr>\n",
       "      <td>6</td>\n",
       "      <td>b</td>\n",
       "      <td>4</td>\n",
       "      <td>2.5</td>\n",
       "      <td>NaN</td>\n",
       "      <td>NaN</td>\n",
       "    </tr>\n",
       "    <tr>\n",
       "      <td>7</td>\n",
       "      <td>b</td>\n",
       "      <td>1</td>\n",
       "      <td>2.5</td>\n",
       "      <td>2.000000</td>\n",
       "      <td>NaN</td>\n",
       "    </tr>\n",
       "    <tr>\n",
       "      <td>8</td>\n",
       "      <td>b</td>\n",
       "      <td>4</td>\n",
       "      <td>2.5</td>\n",
       "      <td>3.000000</td>\n",
       "      <td>2.50</td>\n",
       "    </tr>\n",
       "    <tr>\n",
       "      <td>9</td>\n",
       "      <td>b</td>\n",
       "      <td>2</td>\n",
       "      <td>3.0</td>\n",
       "      <td>2.333333</td>\n",
       "      <td>2.75</td>\n",
       "    </tr>\n",
       "    <tr>\n",
       "      <td>10</td>\n",
       "      <td>c</td>\n",
       "      <td>5</td>\n",
       "      <td>NaN</td>\n",
       "      <td>NaN</td>\n",
       "      <td>NaN</td>\n",
       "    </tr>\n",
       "    <tr>\n",
       "      <td>11</td>\n",
       "      <td>c</td>\n",
       "      <td>3</td>\n",
       "      <td>4.0</td>\n",
       "      <td>NaN</td>\n",
       "      <td>NaN</td>\n",
       "    </tr>\n",
       "    <tr>\n",
       "      <td>12</td>\n",
       "      <td>c</td>\n",
       "      <td>1</td>\n",
       "      <td>2.0</td>\n",
       "      <td>3.000000</td>\n",
       "      <td>NaN</td>\n",
       "    </tr>\n",
       "    <tr>\n",
       "      <td>13</td>\n",
       "      <td>c</td>\n",
       "      <td>2</td>\n",
       "      <td>1.5</td>\n",
       "      <td>2.000000</td>\n",
       "      <td>2.75</td>\n",
       "    </tr>\n",
       "    <tr>\n",
       "      <td>14</td>\n",
       "      <td>c</td>\n",
       "      <td>3</td>\n",
       "      <td>2.5</td>\n",
       "      <td>2.000000</td>\n",
       "      <td>2.25</td>\n",
       "    </tr>\n",
       "  </tbody>\n",
       "</table>\n",
       "</div>"
      ],
      "text/plain": [
       "   id  metric  Rolling_mean_2  Rolling_mean_3  Rolling_mean_4\n",
       "0   a       5             NaN             NaN             NaN\n",
       "1   a       3             4.0             NaN             NaN\n",
       "2   a       2             2.5        3.333333             NaN\n",
       "3   a       4             3.0        3.000000            3.50\n",
       "4   a       5             4.5        3.666667            3.50\n",
       "5   b       1             NaN             NaN             NaN\n",
       "6   b       4             2.5             NaN             NaN\n",
       "7   b       1             2.5        2.000000             NaN\n",
       "8   b       4             2.5        3.000000            2.50\n",
       "9   b       2             3.0        2.333333            2.75\n",
       "10  c       5             NaN             NaN             NaN\n",
       "11  c       3             4.0             NaN             NaN\n",
       "12  c       1             2.0        3.000000             NaN\n",
       "13  c       2             1.5        2.000000            2.75\n",
       "14  c       3             2.5        2.000000            2.25"
      ]
     },
     "execution_count": 27,
     "metadata": {},
     "output_type": "execute_result"
    }
   ],
   "source": [
    "for i in range(2,5):\n",
    "    x = df.groupby('id')['metric'].rolling(i).mean()\n",
    "    df['Rolling_mean_%s' % i] = x.reset_index(0,drop=True)\n",
    "df"
   ]
  },
  {
   "cell_type": "code",
   "execution_count": 39,
   "metadata": {},
   "outputs": [],
   "source": [
    "# ###### SOLUTION 1 :\n",
    "\n",
    "\n",
    "# for i in range(2,5):\n",
    "#     df['Rolling_mean_%s' % i] = df.groupby('id')['metric'].rolling(i).mean().reset_index(0,drop=True)\n",
    "# df"
   ]
  },
  {
   "cell_type": "code",
   "execution_count": 40,
   "metadata": {},
   "outputs": [],
   "source": [
    "# ###### SOLUTION 2 :\n",
    "\n",
    "\n",
    "# for i in range(0,df.shape[0]-1):\n",
    "#     df.loc[df.index[i+1],'Rolling_mean_2'] = np.round(((df.iloc[i,1]+ df.iloc[i+1,1] )/2),1)\n",
    "    \n",
    "# for i in range(0,df.shape[0]-2):\n",
    "#     df.loc[df.index[i+2],'Rolling_mean_3'] = np.round(((df.iloc[i,1]+ df.iloc[i+1,1] +df.iloc[i+2,1])/3),1)\n",
    "\n",
    "# for i in range(0,df.shape[0]-3):\n",
    "#     df.loc[df.index[i+3],'Rolling_mean_4'] = np.round(((df.iloc[i,1]+ df.iloc[i+1,1] +df.iloc[i+2,1]+df.iloc[i+3,1])/4),1)\n",
    "\n",
    "# df"
   ]
  },
  {
   "cell_type": "code",
   "execution_count": 41,
   "metadata": {},
   "outputs": [],
   "source": [
    "# for i in range(2,5):\n",
    "#     for j in range(0,df.shape[0]-i+1):\n",
    "#         df.loc[df.index[j+i-1],'Rolling_mean_%s' % i] = np.round(((df.iloc[j,1]+ df.iloc[j+i-2,1] +df.iloc[j+i-1,1])/i),1)\n",
    "#     #df.groupby('id')['Rolling_mean_%s' % i]\n",
    "# df"
   ]
  },
  {
   "cell_type": "markdown",
   "metadata": {},
   "source": [
    "#### Question 8 (15 points)"
   ]
  },
  {
   "cell_type": "markdown",
   "metadata": {},
   "source": [
    "Find pairwise correlations for each ids period of data, meaning for each id a,b,c, treat metric for periods 1-5 as a vector, and find the correlations.  The result should be a 3 x 3 correlation matrix.\n",
    "\n",
    "Find the highest correlating users (negative or positive) using the correlation matrix.  Create  a dataframe with two columns,  the first being an id (a,b,c) and the second column the highest correlating id.\n",
    "\n",
    "Print the 3 by 3 correlation matrix and the two column dataframe with the most similar ids."
   ]
  },
  {
   "cell_type": "code",
   "execution_count": 29,
   "metadata": {},
   "outputs": [
    {
     "data": {
      "text/html": [
       "<div>\n",
       "<style scoped>\n",
       "    .dataframe tbody tr th:only-of-type {\n",
       "        vertical-align: middle;\n",
       "    }\n",
       "\n",
       "    .dataframe tbody tr th {\n",
       "        vertical-align: top;\n",
       "    }\n",
       "\n",
       "    .dataframe thead th {\n",
       "        text-align: right;\n",
       "    }\n",
       "</style>\n",
       "<table border=\"1\" class=\"dataframe\">\n",
       "  <thead>\n",
       "    <tr style=\"text-align: right;\">\n",
       "      <th></th>\n",
       "      <th>id</th>\n",
       "      <th>metric</th>\n",
       "      <th>period</th>\n",
       "    </tr>\n",
       "  </thead>\n",
       "  <tbody>\n",
       "    <tr>\n",
       "      <td>0</td>\n",
       "      <td>a</td>\n",
       "      <td>5</td>\n",
       "      <td>1</td>\n",
       "    </tr>\n",
       "    <tr>\n",
       "      <td>1</td>\n",
       "      <td>a</td>\n",
       "      <td>3</td>\n",
       "      <td>2</td>\n",
       "    </tr>\n",
       "    <tr>\n",
       "      <td>2</td>\n",
       "      <td>a</td>\n",
       "      <td>2</td>\n",
       "      <td>3</td>\n",
       "    </tr>\n",
       "    <tr>\n",
       "      <td>3</td>\n",
       "      <td>a</td>\n",
       "      <td>4</td>\n",
       "      <td>4</td>\n",
       "    </tr>\n",
       "    <tr>\n",
       "      <td>4</td>\n",
       "      <td>a</td>\n",
       "      <td>5</td>\n",
       "      <td>5</td>\n",
       "    </tr>\n",
       "    <tr>\n",
       "      <td>5</td>\n",
       "      <td>b</td>\n",
       "      <td>1</td>\n",
       "      <td>1</td>\n",
       "    </tr>\n",
       "    <tr>\n",
       "      <td>6</td>\n",
       "      <td>b</td>\n",
       "      <td>4</td>\n",
       "      <td>2</td>\n",
       "    </tr>\n",
       "    <tr>\n",
       "      <td>7</td>\n",
       "      <td>b</td>\n",
       "      <td>1</td>\n",
       "      <td>3</td>\n",
       "    </tr>\n",
       "    <tr>\n",
       "      <td>8</td>\n",
       "      <td>b</td>\n",
       "      <td>4</td>\n",
       "      <td>4</td>\n",
       "    </tr>\n",
       "    <tr>\n",
       "      <td>9</td>\n",
       "      <td>b</td>\n",
       "      <td>2</td>\n",
       "      <td>5</td>\n",
       "    </tr>\n",
       "    <tr>\n",
       "      <td>10</td>\n",
       "      <td>c</td>\n",
       "      <td>5</td>\n",
       "      <td>1</td>\n",
       "    </tr>\n",
       "    <tr>\n",
       "      <td>11</td>\n",
       "      <td>c</td>\n",
       "      <td>3</td>\n",
       "      <td>2</td>\n",
       "    </tr>\n",
       "    <tr>\n",
       "      <td>12</td>\n",
       "      <td>c</td>\n",
       "      <td>1</td>\n",
       "      <td>3</td>\n",
       "    </tr>\n",
       "    <tr>\n",
       "      <td>13</td>\n",
       "      <td>c</td>\n",
       "      <td>2</td>\n",
       "      <td>4</td>\n",
       "    </tr>\n",
       "    <tr>\n",
       "      <td>14</td>\n",
       "      <td>c</td>\n",
       "      <td>3</td>\n",
       "      <td>5</td>\n",
       "    </tr>\n",
       "  </tbody>\n",
       "</table>\n",
       "</div>"
      ],
      "text/plain": [
       "   id  metric  period\n",
       "0   a       5       1\n",
       "1   a       3       2\n",
       "2   a       2       3\n",
       "3   a       4       4\n",
       "4   a       5       5\n",
       "5   b       1       1\n",
       "6   b       4       2\n",
       "7   b       1       3\n",
       "8   b       4       4\n",
       "9   b       2       5\n",
       "10  c       5       1\n",
       "11  c       3       2\n",
       "12  c       1       3\n",
       "13  c       2       4\n",
       "14  c       3       5"
      ]
     },
     "execution_count": 29,
     "metadata": {},
     "output_type": "execute_result"
    }
   ],
   "source": [
    "metric = np.array([5,3,2,4,5,1,4,1,4,2,5,3,1,2,3])\n",
    "periods = [1,2,3,4,5] * 3\n",
    "ids = np.array([\"a\",\"a\",\"a\",\"a\",\"a\",\"b\",\"b\",\"b\",\"b\",\"b\",\"c\",\"c\",\"c\",\"c\",\"c\"])\n",
    "\n",
    "df = pd.DataFrame({\n",
    "    \"id\":ids,\n",
    "    \"metric\":metric,\n",
    "    \"period\": periods\n",
    "})\n",
    "\n",
    "df"
   ]
  },
  {
   "cell_type": "code",
   "execution_count": 30,
   "metadata": {},
   "outputs": [
    {
     "name": "stdout",
     "output_type": "stream",
     "text": [
      "The correlation Matrix :\n",
      "      a    b    c\n",
      "a  0.0  7.0  5.0\n",
      "b  7.0  0.0  2.0\n",
      "c  5.0  2.0  0.0 \n",
      "\n",
      "The Similarity matrix :    0\n",
      "a  c\n",
      "b  c\n",
      "c  b\n"
     ]
    }
   ],
   "source": [
    "melted_df = pd.melt(df, id_vars = \"id\", value_vars = [\"metric\", \"period\"])\n",
    "pivoted = melted_df.pivot_table(index = \"id\", columns = \"variable\", values = \"value\", aggfunc = \"sum\")\n",
    "pivot_df = pivoted.rename_axis(None).rename_axis(None, axis=1)\n",
    "correlation_matrix = pd.DataFrame(squareform(pdist(pivot_df)))\n",
    "correlation_matrix.index = ['a','b','c']\n",
    "correlation_matrix.columns = ['a','b','c']\n",
    "similar_id_matrix = pd.DataFrame(correlation_matrix[correlation_matrix > 0.01].idxmin(axis=1))\n",
    "print(\"The correlation Matrix :\\n\" ,correlation_matrix,\"\\n\\nThe Similarity matrix :\",similar_id_matrix)"
   ]
  }
 ],
 "metadata": {
  "kernelspec": {
   "display_name": "Python 3",
   "language": "python",
   "name": "python3"
  },
  "language_info": {
   "codemirror_mode": {
    "name": "ipython",
    "version": 3
   },
   "file_extension": ".py",
   "mimetype": "text/x-python",
   "name": "python",
   "nbconvert_exporter": "python",
   "pygments_lexer": "ipython3",
   "version": "3.7.4"
  }
 },
 "nbformat": 4,
 "nbformat_minor": 4
}
